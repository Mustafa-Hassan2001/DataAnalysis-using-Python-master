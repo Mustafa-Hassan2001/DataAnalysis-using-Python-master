{
  "nbformat": 4,
  "nbformat_minor": 0,
  "metadata": {
    "colab": {
      "name": "Assignment_02.ipynb",
      "provenance": []
    },
    "kernelspec": {
      "name": "python3",
      "display_name": "Python 3"
    },
    "language_info": {
      "name": "python"
    }
  },
  "cells": [
    {
      "cell_type": "markdown",
      "source": [
        "# Baby Births Data Analysis"
      ],
      "metadata": {
        "id": "JBiij_b1_BEL"
      }
    },
    {
      "cell_type": "markdown",
      "source": [
        "This assessment uses data from the United States Social Security Administration (SSA) which contains names of babies born between 1991 and 2010\n",
        "\n",
        "In particular, we are provided with yearly files, from “yob1991.csv’ all the way to “yob2010.csv”. Each of these files contains information such as name, sex, total number and the year of births.\n",
        "\n",
        "The objectives of this assessment are as follows:\n",
        "1. Data handling by combining multiple datasets\n",
        "2. Visualize the total male and female babies over time\n",
        "3. Tabulate the most and least popular baby names\n",
        "4. Analyze trends in names."
      ],
      "metadata": {
        "id": "F5OBeDD2-vN8"
      }
    },
    {
      "cell_type": "markdown",
      "source": [
        "## Task 1:\n",
        "Write a loop to concatenate (vertically) each of these files to form one big file. Call this big file as ‘full_data’. Using the data, compute the following statistics and report them as Table 1: (a) total number of observations, (b) total unique names, (c) total births, and (d) average births per unique name.\n",
        "\n"
      ],
      "metadata": {
        "id": "C-kZjGgC_PPr"
      }
    },
    {
      "cell_type": "code",
      "source": [
        ""
      ],
      "metadata": {
        "id": "PAz50i15_Rcl"
      },
      "execution_count": null,
      "outputs": []
    },
    {
      "cell_type": "markdown",
      "source": [
        "## Task 2:\n",
        "Create a pivot table of total births by sex and year and then plot them as Figure 1."
      ],
      "metadata": {
        "id": "t6su9Gtg_STj"
      }
    },
    {
      "cell_type": "code",
      "source": [
        ""
      ],
      "metadata": {
        "id": "mAkAre5I_Rmw"
      },
      "execution_count": null,
      "outputs": []
    },
    {
      "cell_type": "markdown",
      "source": [
        "## Task 3:\n",
        "Calculate the total births over the sample period by grouping the data by name and sex. Subset the group into male and female. Using these subsets, select the top and bottom 3 male and female names. In total, you should have 12 names in total. Report them as Table 2."
      ],
      "metadata": {
        "id": "IBEmjae0_Wp0"
      }
    },
    {
      "cell_type": "code",
      "source": [
        ""
      ],
      "metadata": {
        "id": "VnGOP60m_ZlD"
      },
      "execution_count": null,
      "outputs": []
    },
    {
      "cell_type": "markdown",
      "source": [
        "## Task 4:\n",
        "Using the top male and female names (two names in total), check their trends over time, i.e. plot the total births with these names from 1991 to 2010 as Figure 2. In order to do this, you would first need to create a pivot table"
      ],
      "metadata": {
        "id": "Y3GSYKew_Z8H"
      }
    },
    {
      "cell_type": "code",
      "source": [
        ""
      ],
      "metadata": {
        "id": "2M0Bf0dz_jT-"
      },
      "execution_count": null,
      "outputs": []
    }
  ]
}