{
  "nbformat": 4,
  "nbformat_minor": 0,
  "metadata": {
    "colab": {
      "name": "Assignment_03.ipynb",
      "provenance": []
    },
    "kernelspec": {
      "name": "python3",
      "display_name": "Python 3"
    },
    "language_info": {
      "name": "python"
    }
  },
  "cells": [
    {
      "cell_type": "markdown",
      "source": [
        "# Visulizing SuperMarket Data"
      ],
      "metadata": {
        "id": "QRnmlGt5ugO-"
      }
    },
    {
      "cell_type": "markdown",
      "source": [
        "Instructions: \n",
        "* Use proper legends, labels, and title for every plot\n",
        "* Try to use different stylings available to make your plots look as esthetically pleasing as possible"
      ],
      "metadata": {
        "id": "V-wRPBA2swjS"
      }
    },
    {
      "cell_type": "markdown",
      "source": [
        "### Setup"
      ],
      "metadata": {
        "id": "dBrqO6yFwuWf"
      }
    },
    {
      "cell_type": "code",
      "execution_count": 1,
      "metadata": {
        "colab": {
          "base_uri": "https://localhost:8080/"
        },
        "id": "oLrxCM2hteBU",
        "outputId": "0ec96e38-80c7-4f08-ebf6-71f286c99092"
      },
      "outputs": [
        {
          "output_type": "stream",
          "name": "stdout",
          "text": [
            "Mounted at /content/drive\n"
          ]
        }
      ],
      "source": [
        "from google.colab import drive\n",
        "drive.mount('/content/drive')"
      ]
    },
    {
      "cell_type": "code",
      "source": [
        "cd /content/drive/MyDrive/DataAnalysis-with-Python"
      ],
      "metadata": {
        "colab": {
          "base_uri": "https://localhost:8080/"
        },
        "id": "MB2djoYKwzLd",
        "outputId": "d2f9444a-abd1-412c-eb6a-89ed15db2511"
      },
      "execution_count": 2,
      "outputs": [
        {
          "output_type": "stream",
          "name": "stdout",
          "text": [
            "/content/drive/MyDrive/DataAnalysis-with-Python\n"
          ]
        }
      ]
    },
    {
      "cell_type": "code",
      "source": [
        "import pandas as pd\n",
        "import seaborn as sns\n",
        "import matplotlib.pyplot as plt\n",
        "# %maplotlib inline"
      ],
      "metadata": {
        "id": "MEgibQ_9w6LE"
      },
      "execution_count": 3,
      "outputs": []
    },
    {
      "cell_type": "code",
      "source": [
        "data = pd.read_excel('SuperstoreData.xls')"
      ],
      "metadata": {
        "id": "QTrMia-QxAdE"
      },
      "execution_count": 7,
      "outputs": []
    },
    {
      "cell_type": "markdown",
      "source": [
        "## Task 01\n",
        "Choose an appropriate graph to display the change in sales of each category throughout the year. Display each sale inside a separate graph;\n",
        "*Hint: Make use of subplots"
      ],
      "metadata": {
        "id": "vpYWLWQV4Lw5"
      }
    },
    {
      "cell_type": "code",
      "source": [
        ""
      ],
      "metadata": {
        "id": "t2szj0k04oXG"
      },
      "execution_count": null,
      "outputs": []
    },
    {
      "cell_type": "markdown",
      "source": [
        "# Task 02\n",
        "What is the total number of sales of each sub-category inside each category\n",
        "*Hint: Use Subplots"
      ],
      "metadata": {
        "id": "iPvzX3TPsUBi"
      }
    },
    {
      "cell_type": "code",
      "source": [
        ""
      ],
      "metadata": {
        "id": "Eh3yD0pYstqA"
      },
      "execution_count": null,
      "outputs": []
    },
    {
      "cell_type": "markdown",
      "source": [
        "## Task 03\n",
        "Figure out a way to present your data to stakeholders in such a way they could;\n",
        "1. see the sales change in each country through out the year\n",
        "2. could differentiate between each category of the sales each country made"
      ],
      "metadata": {
        "id": "CK83eyrPtSrr"
      }
    },
    {
      "cell_type": "code",
      "source": [
        ""
      ],
      "metadata": {
        "id": "zZR6QA_Pt-Ck"
      },
      "execution_count": null,
      "outputs": []
    },
    {
      "cell_type": "markdown",
      "source": [
        "## Task 04\n",
        "Play with the data, make some intresting plots and draw some conclusion"
      ],
      "metadata": {
        "id": "47R3l2wBt-SV"
      }
    },
    {
      "cell_type": "code",
      "source": [
        ""
      ],
      "metadata": {
        "id": "_O-5zmdbt-Hr"
      },
      "execution_count": null,
      "outputs": []
    },
    {
      "cell_type": "markdown",
      "source": [
        "## Task 05\n",
        "If you used seaborn to visualize the contents of Task01, achieve the same result using matplotlib or vice versa"
      ],
      "metadata": {
        "id": "y-IogWksh7VS"
      }
    },
    {
      "cell_type": "code",
      "source": [
        ""
      ],
      "metadata": {
        "id": "FOKFsCxRiGC-"
      },
      "execution_count": null,
      "outputs": []
    }
  ]
}