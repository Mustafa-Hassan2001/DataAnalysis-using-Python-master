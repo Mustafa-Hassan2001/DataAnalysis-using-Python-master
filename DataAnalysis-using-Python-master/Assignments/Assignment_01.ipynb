{
  "nbformat": 4,
  "nbformat_minor": 0,
  "metadata": {
    "colab": {
      "name": "Assignment01.ipynb",
      "provenance": [],
      "collapsed_sections": []
    },
    "kernelspec": {
      "name": "python3",
      "display_name": "Python 3"
    },
    "language_info": {
      "name": "python"
    }
  },
  "cells": [
    {
      "cell_type": "code",
      "execution_count": 11,
      "metadata": {
        "id": "mvl9kklGIdKC"
      },
      "outputs": [],
      "source": [
        "#import all the libraries here\n",
        "import numpy as np\n",
        "import pandas as pd"
      ]
    },
    {
      "cell_type": "code",
      "source": [
        "from google.colab import drive\n",
        "drive.mount('/content/drive')"
      ],
      "metadata": {
        "colab": {
          "base_uri": "https://localhost:8080/"
        },
        "id": "G_fV7jG0KO1e",
        "outputId": "24d4ad89-dcd1-4805-fa2d-f464c5214a77"
      },
      "execution_count": 12,
      "outputs": [
        {
          "output_type": "stream",
          "name": "stdout",
          "text": [
            "Drive already mounted at /content/drive; to attempt to forcibly remount, call drive.mount(\"/content/drive\", force_remount=True).\n"
          ]
        }
      ]
    },
    {
      "cell_type": "code",
      "source": [
        "cd /content/drive/MyDrive/DataAnalysis-with-Python"
      ],
      "metadata": {
        "colab": {
          "base_uri": "https://localhost:8080/"
        },
        "id": "BA6GLLNjKdaq",
        "outputId": "a5882b68-68e0-456c-e796-56c71f362e46"
      },
      "execution_count": 4,
      "outputs": [
        {
          "output_type": "stream",
          "name": "stdout",
          "text": [
            "/content/drive/MyDrive/DataAnalysis-with-Python\n"
          ]
        }
      ]
    },
    {
      "cell_type": "markdown",
      "source": [
        "##Task 1:\t\n",
        "Inspecting your Data.\n",
        "\tread and disect your datafile \"kiwisaver_sample_wk9.csv\" to figure out list of all possible dirty data problems in your data."
      ],
      "metadata": {
        "id": "Z7XTp_iUgdZb"
      }
    },
    {
      "cell_type": "code",
      "source": [
        ""
      ],
      "metadata": {
        "id": "rsc6vGOlyg7e"
      },
      "execution_count": null,
      "outputs": []
    },
    {
      "cell_type": "markdown",
      "source": [
        "##Task 2:\t\n",
        "You must have noticed we have some data with missing \"Morningstar Ratings\", createa method and figure out a way to imputate the missing data"
      ],
      "metadata": {
        "id": "iBDFQ3eyjSI-"
      }
    },
    {
      "cell_type": "code",
      "source": [
        ""
      ],
      "metadata": {
        "id": "ykxp6FIMjwRy"
      },
      "execution_count": null,
      "outputs": []
    },
    {
      "cell_type": "markdown",
      "source": [
        "##Task 3:\t\n",
        "List all the unique \"Equity Style\"?   \n",
        "What are the two most used and least used Equity Style?"
      ],
      "metadata": {
        "id": "wvntPD5OxWb_"
      }
    },
    {
      "cell_type": "code",
      "source": [
        ""
      ],
      "metadata": {
        "id": "-vS6KNxuyVH_"
      },
      "execution_count": null,
      "outputs": []
    },
    {
      "cell_type": "markdown",
      "source": [
        "##Task 4:\t\n",
        "Mapping your data: Figure out a way to map the values of \"Morningstar Rating\" form [5,4,3,2,1] to ['Awsome','Good','Average','bad','Awful']"
      ],
      "metadata": {
        "id": "R7HKDkbJhJGn"
      }
    },
    {
      "cell_type": "code",
      "source": [
        ""
      ],
      "metadata": {
        "id": "qqTuTdAnjrQ0"
      },
      "execution_count": null,
      "outputs": []
    },
    {
      "cell_type": "markdown",
      "source": [
        "##Task 5:\t\n",
        "Data Aggregation using GroupBy.\n",
        "\tUsing the datafile \"Kiwisaver_sample_wk9.csv\", group the Funds based on Branding Name and Equity Style.\n",
        "\tReport the average Holdings and Net Assets Size of the groups that you just created. "
      ],
      "metadata": {
        "id": "Y_b-s1ZiImia"
      }
    },
    {
      "cell_type": "code",
      "source": [
        ""
      ],
      "metadata": {
        "id": "HDFYVa92Il10"
      },
      "execution_count": null,
      "outputs": []
    },
    {
      "cell_type": "markdown",
      "source": [
        "##Task 6:\t\n",
        "Data Aggregation using pivot tables.\t\n",
        "\tSimilar to the previous task, you will be using the file \"Kiwisaver_sample_wk9.csv\". \n",
        "\tCreate a pivot table of average Holdings and Net Assets Size of Funds grouped by Branding Name and Equity Style (i.e. do the exact same thing as Task 1, but using a pivot table).\n"
      ],
      "metadata": {
        "id": "KNbcF7qQIqc2"
      }
    },
    {
      "cell_type": "code",
      "source": [
        ""
      ],
      "metadata": {
        "id": "k6rmNOrNIt07"
      },
      "execution_count": null,
      "outputs": []
    },
    {
      "cell_type": "markdown",
      "source": [
        "##Task 7: \n",
        "Still using the file \"Kiwisaver_sample_wk9.csv\", clean the dataframe if information related to Morningstar Rating and Manager Name is not available. \n",
        "\n",
        "Using either GroupBy or a pivot table, report the average Morningstar Rating for Funds managed by each of the managers in the file."
      ],
      "metadata": {
        "id": "OolBfm2pIuba"
      }
    },
    {
      "cell_type": "code",
      "source": [
        ""
      ],
      "metadata": {
        "id": "-EGJMPUCIxZe"
      },
      "execution_count": null,
      "outputs": []
    }
  ]
}